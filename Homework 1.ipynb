{
 "cells": [
  {
   "cell_type": "markdown",
   "metadata": {},
   "source": [
    "# Homework 1"
   ]
  },
  {
   "cell_type": "code",
   "execution_count": 3,
   "metadata": {},
   "outputs": [],
   "source": [
    "from matplotlib import pyplot as plt\n",
    "import numpy as np\n",
    "import math"
   ]
  },
  {
   "cell_type": "markdown",
   "metadata": {},
   "source": [
    "# Collaboration Policy\n",
    "\n",
    "You are encouraged to work together on the homework discussing on the concepts. However, the code you submit must be your own original work. I do want you to understand both why we do things this way and how to get computer to do what you want.\n",
    "\n",
    "One good test would be to make sure that you can rewrite all your code with no external human help(other than syntax refrences) after you delete your entire solution.\n",
    "\n"
   ]
  },
  {
   "cell_type": "markdown",
   "metadata": {},
   "source": [
    "# Problem 1: Basic Programming"
   ]
  },
  {
   "cell_type": "markdown",
   "metadata": {},
   "source": [
    "1.1) A [prime number](https://en.wikipedia.org/wiki/Prime_number) is a number that is not divisible by any positive integer less than it. Write a function ``is_prime(x)`` which takes a positive integer $x$ and returns ``True`` if $x$ is a prime number and ``False`` otherwise."
   ]
  },
  {
   "cell_type": "code",
   "execution_count": null,
   "metadata": {},
   "outputs": [],
   "source": [
    "def is_prime(x):\n",
    "    #fill this\n",
    "    pass"
   ]
  },
  {
   "cell_type": "markdown",
   "metadata": {},
   "source": [
    "1.2) Compute the sum of all prime number from 2 to 1000. "
   ]
  },
  {
   "cell_type": "code",
   "execution_count": null,
   "metadata": {},
   "outputs": [],
   "source": []
  },
  {
   "cell_type": "markdown",
   "metadata": {},
   "source": [
    "1.3) Find the [median](https://en.wikipedia.org/wiki/Median) of the prime numbers from 2 to 100."
   ]
  },
  {
   "cell_type": "code",
   "execution_count": null,
   "metadata": {},
   "outputs": [],
   "source": []
  },
  {
   "cell_type": "markdown",
   "metadata": {},
   "source": [
    "# Problem 2: Power Law Fitting"
   ]
  },
  {
   "cell_type": "markdown",
   "metadata": {},
   "source": [
    "Consider the data below. If we believe that the relation between $x$ and $y$ are power law. That is\n",
    "$$\n",
    "y = k x ^d\n",
    "$$\n",
    "for some constant $k$ and $d$.\n",
    "\n",
    "We can turn this in to linear regression by taking logarithm of the equation above and it becomes.\n",
    "\n",
    "$$\n",
    "    \\ln y = d \\ln x + \\ln k\n",
    "$$\n",
    "\n",
    "We can then preform linear regression on the equation above to find $d$ and $k$.\n",
    "\n",
    "**Your Task** Find $d$ and $k$ for the data below. Plot $y$ vs $x$ to verify that you have the correct line."
   ]
  },
  {
   "cell_type": "code",
   "execution_count": 46,
   "metadata": {},
   "outputs": [],
   "source": [
    "#don't touch this part\n",
    "np.random.seed(777)\n",
    "xs = np.linspace(2,3,100)\n",
    "ys = np.power(xs, 4)*np.exp(np.random.randn(100)*0.2)"
   ]
  },
  {
   "cell_type": "code",
   "execution_count": 47,
   "metadata": {},
   "outputs": [
    {
     "data": {
      "image/png": "[encoded data removed]",
      "text/plain": [
       "<Figure size 432x288 with 1 Axes>"
      ]
     },
     "metadata": {
      "image/png": {
       "height": 250,
       "width": 377
      },
      "needs_background": "light"
     },
     "output_type": "display_data"
    }
   ],
   "source": [
    "plt.plot(xs, ys, '.')\n",
    "plt.grid()"
   ]
  },
  {
   "cell_type": "code",
   "execution_count": null,
   "metadata": {},
   "outputs": [],
   "source": []
  },
  {
   "cell_type": "markdown",
   "metadata": {},
   "source": [
    "# Problem 3: Binned Histogram Fit\n",
    "\n",
    "Note that this is a simplified problem. The actual binned histogram fit will need to incorporate Poisson statistics for uncertainty but least square would do pretty well in many cases.\n",
    "\n",
    "This problem requires a bit of imagination. I left the hints with AJ. Pat. So, find him if you need hints.\n",
    "\n",
    "\n",
    "\n",
    "\n",
    "## Part 1\n",
    "\n",
    "Consider the data below is a histogram generated from 2 gaussian distribution with different mean and width.\n",
    "\n",
    "**Your Task**\n",
    "Perform a least square fitting on a linear of of 2 gaussian function distribution. Get both coefficients and mean and width.\n",
    "$$\n",
    "    f(x) =  A \\times N(x; \\mu_1, \\sigma_1) + B \\times N(x; \\mu_2, \\sigma_2)\n",
    "$$\n",
    "\n",
    "where $N(\\mu, \\sigma)$ is a normal distribution with the mean($\\mu$) and standard deviation($\\sigma$).\n",
    "\n",
    "$$\n",
    "    N(\\mu, \\sigma) = \\frac{1}{\\sqrt{2 \\pi \\sigma^2}} \\exp{\\frac{-(x-\\mu)^2}{2\\sigma^2}}\n",
    "$$\n",
    "\n",
    "and also make the following plot(without the red dot) to verify (you may not get exactly this graph)\n",
    "\n",
    "<img src=\"p3-2.png\"/>\n",
    "\n",
    "*Hint:* Be careful with the initial values. If you start too far from the from the actual value, it will not converge. You can get a decent initial value by inspecting the graph."
   ]
  },
  {
   "cell_type": "code",
   "execution_count": 50,
   "metadata": {},
   "outputs": [
    {
     "name": "stdout",
     "output_type": "stream",
     "text": [
      "bin_size 0.2046415626374155\n"
     ]
    }
   ],
   "source": [
    "# don't touch this part\n",
    "np.random.seed(999)\n",
    "raw1 = np.random.randn(175)*0.4+0.3\n",
    "raw2 = np.random.randn(300)*0.5+2\n",
    "all_raw = np.concatenate((raw1, raw2))\n",
    "hist, bins = np.histogram(all_raw, bins=20)\n",
    "mid_points= (bins[:-1]+bins[1:])/2.0\n",
    "ys = hist\n",
    "xs = mid_points\n",
    "bin_size = bins[1]-bins[0]\n",
    "print('bin_size', bin_size)"
   ]
  },
  {
   "cell_type": "code",
   "execution_count": 51,
   "metadata": {},
   "outputs": [
    {
     "data": {
      "image/png": "[encoded data removed]",
      "text/plain": [
       "<Figure size 432x288 with 1 Axes>"
      ]
     },
     "metadata": {
      "image/png": {
       "height": 250,
       "width": 370
      },
      "needs_background": "light"
     },
     "output_type": "display_data"
    }
   ],
   "source": [
    "plt.plot(xs, ys, '+')\n",
    "plt.grid()"
   ]
  },
  {
   "cell_type": "code",
   "execution_count": null,
   "metadata": {},
   "outputs": [],
   "source": []
  },
  {
   "cell_type": "markdown",
   "metadata": {},
   "source": [
    "## Part 2\n",
    "\n",
    "Given $A$ and $B$ you found above and the binsize (in variable called `bin_size`). \n",
    "Find the total number of data points are under the left peak. Also, find the total number of data points under the right peak."
   ]
  },
  {
   "cell_type": "code",
   "execution_count": null,
   "metadata": {},
   "outputs": [],
   "source": []
  },
  {
   "cell_type": "markdown",
   "metadata": {},
   "source": [
    "## Part 3-1"
   ]
  },
  {
   "cell_type": "markdown",
   "metadata": {},
   "source": [
    "We can turn the problem of solving $f(x) = g(x)$ in to optimization problem as well. We just need to be a bit creative.\n",
    "\n",
    "Your task: Supposed that we want to solve the equation\n",
    "$$\n",
    "    sin(x)+1 =  x^2\n",
    "$$\n",
    "Find the approiate cost function which can solve the above equation."
   ]
  },
  {
   "cell_type": "code",
   "execution_count": null,
   "metadata": {},
   "outputs": [],
   "source": []
  },
  {
   "cell_type": "markdown",
   "metadata": {},
   "source": [
    "## Part 3-2\n",
    "Consider the data you just fitted. One of the point that we are interested in is the point where the mixture of the data under the left and the right curve are equal. This is the point where the two gaussians crossed each other(The red dot in this picture).\n",
    "\n",
    "<img src=\"p3-2.png\"/>\n",
    "\n",
    "Find that $x_{50}$ given your fitted parameters.\n",
    "\n",
    "*Hint* use what you just did in 3-1."
   ]
  },
  {
   "cell_type": "code",
   "execution_count": null,
   "metadata": {},
   "outputs": [],
   "source": []
  }
 ],
 "metadata": {
  "kernelspec": {
   "display_name": "Python 3",
   "language": "python",
   "name": "python3"
  },
  "language_info": {
   "codemirror_mode": {
    "name": "ipython",
    "version": 3
   },
   "file_extension": ".py",
   "mimetype": "text/x-python",
   "name": "python",
   "nbconvert_exporter": "python",
   "pygments_lexer": "ipython3",
   "version": "3.7.0"
  },
  "toc": {
   "colors": {
    "hover_highlight": "#DAA520",
    "running_highlight": "#FF0000",
    "selected_highlight": "#FFD700"
   },
   "moveMenuLeft": true,
   "nav_menu": {
    "height": "174px",
    "width": "252px"
   },
   "navigate_menu": true,
   "number_sections": false,
   "sideBar": true,
   "threshold": 4,
   "toc_cell": false,
   "toc_section_display": "block",
   "toc_window_display": false
  }
 },
 "nbformat": 4,
 "nbformat_minor": 2
}
